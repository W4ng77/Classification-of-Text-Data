{
  "cells": [
    {
      "cell_type": "markdown",
      "metadata": {
        "id": "QjBk85vigpFn"
      },
      "source": [
        "# Initialization"
      ]
    },
    {
      "cell_type": "code",
      "execution_count": 39,
      "metadata": {
        "id": "Yj2tGo7Lgtd2"
      },
      "outputs": [],
      "source": [
        "from zipfile import ZipFile\n",
        "import numpy as np\n",
        "import pandas as pd\n",
        "import matplotlib.pyplot as plt\n",
        "import seaborn as sns\n",
        "import os,sys\n",
        "import itertools\n",
        "import time\n",
        "import urllib\n",
        "np.random.seed(1234)\n",
        "%matplotlib inline\n",
        "import progressbar"
      ]
    },
    {
      "cell_type": "code",
      "execution_count": 40,
      "metadata": {
        "id": "H6Ci0FupjwWx"
      },
      "outputs": [],
      "source": [
        "from sklearn.feature_extraction.text import CountVectorizer\n",
        "from sklearn.feature_extraction.text import TfidfTransformer\n",
        "from sklearn.linear_model import LogisticRegression\n",
        "from sklearn import metrics\n",
        "from sklearn.datasets import fetch_20newsgroups\n",
        "from sklearn.svm import  LinearSVC\n",
        "from sklearn.utils import shuffle"
      ]
    },
    {
      "cell_type": "code",
      "execution_count": 41,
      "metadata": {
        "colab": {
          "base_uri": "https://localhost:8080/"
        },
        "id": "ODgelnNPTtFY",
        "outputId": "35c8c069-6516-4071-d111-919559f06cbc"
      },
      "outputs": [
        {
          "output_type": "stream",
          "name": "stdout",
          "text": [
            "[nltk_data] Downloading package names to /root/nltk_data...\n",
            "[nltk_data]   Package names is already up-to-date!\n",
            "[nltk_data] Downloading package words to /root/nltk_data...\n",
            "[nltk_data]   Package words is already up-to-date!\n",
            "[nltk_data] Downloading package wordnet to /root/nltk_data...\n",
            "[nltk_data]   Package wordnet is already up-to-date!\n"
          ]
        },
        {
          "output_type": "execute_result",
          "data": {
            "text/plain": [
              "True"
            ]
          },
          "metadata": {},
          "execution_count": 41
        }
      ],
      "source": [
        "import nltk\n",
        "from nltk import corpus\n",
        "from nltk.tokenize import word_tokenize\n",
        "from nltk.stem import WordNetLemmatizer\n",
        "nltk.download('names')\n",
        "nltk.download('words')\n",
        "nltk.download('wordnet')\n",
        "\n",
        "\n"
      ]
    },
    {
      "cell_type": "markdown",
      "metadata": {
        "id": "8b0yQwk1gPR2"
      },
      "source": [
        "# 20newsgroups Acquiring\n"
      ]
    },
    {
      "cell_type": "markdown",
      "metadata": {
        "id": "157_WMz1HewD"
      },
      "source": [
        "Approximately 20,000 records across 20 online newsgroups.Headers,signature blocks and quatations blocks are removed due to their providance of clues for topic classiciation."
      ]
    },
    {
      "cell_type": "code",
      "execution_count": 42,
      "metadata": {
        "id": "Au8jaZF2-AN4"
      },
      "outputs": [],
      "source": [
        "news_train = fetch_20newsgroups(subset='train',remove=(['headers','footers','quotes']))\n",
        "news_test = fetch_20newsgroups(subset='test',remove=(['headers','footers','quotes']))"
      ]
    },
    {
      "cell_type": "markdown",
      "metadata": {
        "id": "W6Dqz1fxDQtm"
      },
      "source": [
        "The targets are categorized into 20 different newsgroups/topics."
      ]
    },
    {
      "cell_type": "code",
      "execution_count": 43,
      "metadata": {
        "id": "da2vVT5iCjhj",
        "colab": {
          "base_uri": "https://localhost:8080/"
        },
        "outputId": "a8fe0419-31e4-4410-eb02-ae60d3d04608"
      },
      "outputs": [
        {
          "output_type": "stream",
          "name": "stdout",
          "text": [
            "['alt.atheism', 'comp.graphics', 'comp.os.ms-windows.misc', 'comp.sys.ibm.pc.hardware', 'comp.sys.mac.hardware', 'comp.windows.x', 'misc.forsale', 'rec.autos', 'rec.motorcycles', 'rec.sport.baseball', 'rec.sport.hockey', 'sci.crypt', 'sci.electronics', 'sci.med', 'sci.space', 'soc.religion.christian', 'talk.politics.guns', 'talk.politics.mideast', 'talk.politics.misc', 'talk.religion.misc']\n",
            "['alt.atheism', 'comp.graphics', 'comp.os.ms-windows.misc', 'comp.sys.ibm.pc.hardware', 'comp.sys.mac.hardware', 'comp.windows.x', 'misc.forsale', 'rec.autos', 'rec.motorcycles', 'rec.sport.baseball', 'rec.sport.hockey', 'sci.crypt', 'sci.electronics', 'sci.med', 'sci.space', 'soc.religion.christian', 'talk.politics.guns', 'talk.politics.mideast', 'talk.politics.misc', 'talk.religion.misc']\n"
          ]
        }
      ],
      "source": [
        "print(news_train.target_names)\n",
        "print(news_test.target_names)"
      ]
    },
    {
      "cell_type": "markdown",
      "metadata": {
        "id": "l9xYor6UCUbc"
      },
      "source": [
        "Target: Integer index of the category."
      ]
    },
    {
      "cell_type": "code",
      "execution_count": 44,
      "metadata": {
        "id": "PMnMF-MYB2o8",
        "colab": {
          "base_uri": "https://localhost:8080/"
        },
        "outputId": "a4ac70d4-0885-404a-a842-601e72e19084"
      },
      "outputs": [
        {
          "output_type": "stream",
          "name": "stdout",
          "text": [
            "[7 4 4 ... 3 1 8]\n",
            "[ 7  5  0 ...  9  6 15]\n"
          ]
        }
      ],
      "source": [
        "print(news_train.target)\n",
        "print(news_test.target)"
      ]
    },
    {
      "cell_type": "markdown",
      "metadata": {
        "id": "rF9dndmGrQma"
      },
      "source": [
        "Check number of cases"
      ]
    },
    {
      "cell_type": "code",
      "execution_count": 45,
      "metadata": {
        "id": "oRErhKBirL75",
        "colab": {
          "base_uri": "https://localhost:8080/"
        },
        "outputId": "5a24a6af-0a6d-40e9-f0b5-ba01044f076e"
      },
      "outputs": [
        {
          "output_type": "stream",
          "name": "stdout",
          "text": [
            "11314\n",
            "7532\n"
          ]
        }
      ],
      "source": [
        "print(len(news_train.data))\n",
        "print(len(news_test.data))"
      ]
    },
    {
      "cell_type": "markdown",
      "metadata": {
        "id": "52pLsMEds5DR"
      },
      "source": [
        "Check number of features"
      ]
    },
    {
      "cell_type": "code",
      "execution_count": 46,
      "metadata": {
        "id": "a6m7l31_suXH",
        "colab": {
          "base_uri": "https://localhost:8080/"
        },
        "outputId": "83bb686a-0451-4b94-a85f-a645536b1e0c"
      },
      "outputs": [
        {
          "output_type": "stream",
          "name": "stdout",
          "text": [
            "(11314, 101322)\n"
          ]
        }
      ],
      "source": [
        "vectorizer = CountVectorizer(lowercase=True,stop_words='english')\n",
        "news_train_vector = vectorizer.fit_transform(news_train.data)\n",
        "print(news_train_vector.shape)"
      ]
    },
    {
      "cell_type": "markdown",
      "metadata": {
        "id": "mAsJeGxiQ2nh"
      },
      "source": [
        "# 20newsgroups Visualization"
      ]
    },
    {
      "cell_type": "markdown",
      "metadata": {
        "id": "_cpj0zYBJQoW"
      },
      "source": [
        "Visualization of the distrubution of topics: A nearly uniform class distribution hence no need to worry under-reprented or over-reprented topics."
      ]
    },
    {
      "cell_type": "code",
      "execution_count": null,
      "metadata": {
        "id": "B4ZvFUScIfT5"
      },
      "outputs": [],
      "source": [
        "sns.histplot(news_train.target)\n",
        "#sns.histplot(news_test.target,color = \"skyblue\")\n",
        "plt.show()"
      ]
    },
    {
      "cell_type": "markdown",
      "metadata": {
        "id": "1D9BYWarNwVF"
      },
      "source": [
        "Visualzationa and Preprocessing using 300 most indicative features. Convert test data into numerical features using bages of words representation. Using occurance of words."
      ]
    },
    {
      "cell_type": "code",
      "execution_count": null,
      "metadata": {
        "id": "UPTEDzwaDtee"
      },
      "outputs": [],
      "source": [
        "vectorizer = CountVectorizer(lowercase=True,stop_words='english',max_features=300)\n",
        "news_train_vector = vectorizer.fit_transform(news_train.data)\n",
        "#news_test_vector = vectorizer.transform(news_test.data).toarray()\n",
        "sns.histplot(np.log(news_train_vector.toarray().sum(axis=0)))\n",
        "#sns.histplot(np.log(news_test_vector.toarray().sum(axis=0)),color='skyblue')\n",
        "plt.xlabel('Log Count')\n",
        "plt.ylabel('Frequency')\n",
        "plt.title('Distrubution of 300 dominant Feature Count')"
      ]
    },
    {
      "cell_type": "markdown",
      "metadata": {
        "id": "XDgje2PAO7HU"
      },
      "source": [
        "Check the 300 most indicative features and several words should be filted acorrding to following notes.\n",
        "\n",
        "Note1: digits.\n",
        "\n",
        "Note2: singular and plural form of same words. E.x.book,books\n",
        "\n",
        "Note3: Derivative words and words of different tense. E.x.write,written,try,trying\n",
        "\n",
        "Note4: Names. E.x. John\n"
      ]
    },
    {
      "cell_type": "code",
      "execution_count": null,
      "metadata": {
        "id": "brJt5jyvM98b"
      },
      "outputs": [],
      "source": [
        "print(vectorizer.get_feature_names_out())"
      ]
    },
    {
      "cell_type": "markdown",
      "metadata": {
        "id": "RMfWLua3n2uu"
      },
      "source": [
        "# 20newsgroups Preprocessing\n"
      ]
    },
    {
      "cell_type": "markdown",
      "metadata": {
        "id": "VFu850hASJa9"
      },
      "source": [
        "Apply filtering according to above notes."
      ]
    },
    {
      "cell_type": "code",
      "execution_count": 47,
      "metadata": {
        "id": "0lJqlj6FF3Hi"
      },
      "outputs": [],
      "source": [
        "def letters(astr):\n",
        "  return astr.isalpha()"
      ]
    },
    {
      "cell_type": "code",
      "execution_count": 48,
      "metadata": {
        "id": "nDgPkIMsSTvj"
      },
      "outputs": [],
      "source": [
        "nnames = set(corpus.names.words())\n",
        "lemmatizer = WordNetLemmatizer()\n",
        "\n",
        "news_train_filtered = []\n",
        "for record in news_train.data:\n",
        "  news_train_filtered.append(' '.join([lemmatizer.lemmatize(word.lower())\n",
        "              for word in record.split()\n",
        "              if letters(word) and word not in nnames]))\n",
        "  \n",
        "\n",
        "news_test_filtered = []\n",
        "for record in news_test.data:\n",
        "  news_test_filtered.append(' '.join([lemmatizer.lemmatize(word.lower())\n",
        "              for word in record.split()\n",
        "              if letters(word) and word not in nnames]))"
      ]
    },
    {
      "cell_type": "markdown",
      "metadata": {
        "id": "2UdNzO9Imgk5"
      },
      "source": [
        "Print number of filtered features."
      ]
    },
    {
      "cell_type": "code",
      "execution_count": 49,
      "metadata": {
        "colab": {
          "base_uri": "https://localhost:8080/"
        },
        "id": "usVb3EXAmFDb",
        "outputId": "a36d33ed-b210-4548-a6bf-b255398d3182"
      },
      "outputs": [
        {
          "output_type": "stream",
          "name": "stdout",
          "text": [
            "(11314, 40455)\n"
          ]
        }
      ],
      "source": [
        "vectorizer = CountVectorizer(stop_words='english')\n",
        "news_train_vector = vectorizer.fit_transform(news_train_filtered)\n",
        "news_test_vector = vectorizer.transform(news_test_filtered)\n",
        "print(news_train_vector.shape)"
      ]
    },
    {
      "cell_type": "markdown",
      "metadata": {
        "id": "Imq1H0V4wmdc"
      },
      "source": [
        "Further reduce the dimention of features using variance threshold."
      ]
    },
    {
      "cell_type": "code",
      "execution_count": 50,
      "metadata": {
        "colab": {
          "base_uri": "https://localhost:8080/"
        },
        "id": "lHIc9bbotVNt",
        "outputId": "51fbaafb-dae4-416a-c445-a95a9eb40272"
      },
      "outputs": [
        {
          "output_type": "stream",
          "name": "stdout",
          "text": [
            "(11314, 2413)\n"
          ]
        }
      ],
      "source": [
        "from sklearn.feature_selection import VarianceThreshold\n",
        "selector = VarianceThreshold(threshold=0.01)\n",
        "news_train_var = selector.fit_transform(news_train_vector)\n",
        "news_test_var = selector.transform(news_test_vector)\n",
        "print(news_train_var.shape)"
      ]
    },
    {
      "cell_type": "markdown",
      "metadata": {
        "id": "70pZoy4OP8kW"
      },
      "source": [
        "Random features(same number)"
      ]
    },
    {
      "cell_type": "code",
      "execution_count": 51,
      "metadata": {
        "colab": {
          "base_uri": "https://localhost:8080/"
        },
        "id": "uOnU8OhtP19l",
        "outputId": "3febb438-5bc9-4be1-cf53-db4d3622e1e2"
      },
      "outputs": [
        {
          "output_type": "stream",
          "name": "stdout",
          "text": [
            "(11314, 2413)\n"
          ]
        }
      ],
      "source": [
        "col_rand_array = np.arange(news_train_var.shape[1])\n",
        "np.random.shuffle(col_rand_array)\n",
        "news_train_randomvar=news_train_vector[:,col_rand_array[0:news_train_var.shape[1]]]\n",
        "news_test_randomvar=news_test_vector[:,col_rand_array[0:news_test_var.shape[1]]]\n",
        "print(news_train_randomvar.shape)"
      ]
    },
    {
      "cell_type": "code",
      "execution_count": 52,
      "metadata": {
        "colab": {
          "base_uri": "https://localhost:8080/",
          "height": 313
        },
        "id": "ra9gt6hOTG_m",
        "outputId": "21c5136e-1c35-46ec-acc7-6bf872e0f097"
      },
      "outputs": [
        {
          "output_type": "execute_result",
          "data": {
            "text/plain": [
              "Text(0.5, 1.0, 'Distrubution of Feature Count')"
            ]
          },
          "metadata": {},
          "execution_count": 52
        },
        {
          "output_type": "display_data",
          "data": {
            "image/png": "[encoded data removed]",
            "text/plain": [
              "<Figure size 432x288 with 1 Axes>"
            ]
          },
          "metadata": {
            "needs_background": "light"
          }
        }
      ],
      "source": [
        "sns.histplot(np.log(news_train_var.toarray().sum(axis=0)))\n",
        "#sns.histplot(np.log(news_test_vector.toarray().sum(axis=0)),color='skyblue')\n",
        "plt.xlabel('Log count')\n",
        "plt.ylabel('Frequency')\n",
        "plt.title('Distrubution of Feature Count')\n"
      ]
    },
    {
      "cell_type": "code",
      "execution_count": 53,
      "metadata": {
        "colab": {
          "base_uri": "https://localhost:8080/",
          "height": 313
        },
        "id": "FUivfLbDUcO6",
        "outputId": "eb0791cc-2b14-4ace-ec30-e1d512d88b09"
      },
      "outputs": [
        {
          "output_type": "execute_result",
          "data": {
            "text/plain": [
              "Text(0.5, 1.0, 'Distrubution of Random Feature Count')"
            ]
          },
          "metadata": {},
          "execution_count": 53
        },
        {
          "output_type": "display_data",
          "data": {
            "image/png": "[encoded data removed]",
            "text/plain": [
              "<Figure size 432x288 with 1 Axes>"
            ]
          },
          "metadata": {
            "needs_background": "light"
          }
        }
      ],
      "source": [
        "sns.histplot(np.log(news_train_randomvar.toarray().sum(axis=0)))\n",
        "#sns.histplot(np.log(news_test_vector.toarray().sum(axis=0)),color='skyblue')\n",
        "plt.xlabel('Log count')\n",
        "plt.ylabel('Frequency')\n",
        "plt.title('Distrubution of Random Feature Count')\n"
      ]
    },
    {
      "cell_type": "markdown",
      "metadata": {
        "id": "qP-7-t2kizUL"
      },
      "source": [
        "Transfrom from occurance to frequencies"
      ]
    },
    {
      "cell_type": "code",
      "execution_count": 54,
      "metadata": {
        "id": "9czGgZyRi3ku"
      },
      "outputs": [],
      "source": [
        "\n",
        "tf_transformer = TfidfTransformer(use_idf=True,smooth_idf=True).fit(news_train_var)\n",
        "news_train_tfidf= tf_transformer.transform(news_train_var).toarray()\n",
        "news_test_tfidf = tf_transformer.transform(news_test_var).toarray()\n"
      ]
    },
    {
      "cell_type": "code",
      "execution_count": 55,
      "metadata": {
        "id": "-lkKMGhYR7E0"
      },
      "outputs": [],
      "source": [
        "tf_transformer_random = TfidfTransformer(use_idf=True,smooth_idf=True).fit(news_train_randomvar)\n",
        "news_train_tfidf_random= tf_transformer_random.transform(news_train_randomvar).toarray()\n",
        "news_test_tfidf_random = tf_transformer_random.transform(news_test_randomvar).toarray()"
      ]
    },
    {
      "cell_type": "code",
      "execution_count": 56,
      "metadata": {
        "colab": {
          "base_uri": "https://localhost:8080/",
          "height": 313
        },
        "id": "yRLTthEDyguD",
        "outputId": "d24e09c8-c371-4f8d-f5e5-2398819db3dd"
      },
      "outputs": [
        {
          "output_type": "execute_result",
          "data": {
            "text/plain": [
              "Text(0.5, 1.0, 'Distrubution of Feature Tf-idf')"
            ]
          },
          "metadata": {},
          "execution_count": 56
        },
        {
          "output_type": "display_data",
          "data": {
            "image/png": "[encoded data removed]",
            "text/plain": [
              "<Figure size 432x288 with 1 Axes>"
            ]
          },
          "metadata": {
            "needs_background": "light"
          }
        }
      ],
      "source": [
        "sns.histplot(np.log(news_train_tfidf.sum(axis=0)))\n",
        "#sns.histplot(np.log(news_test_vector.toarray().sum(axis=0)),color='skyblue')\n",
        "plt.xlabel('Log tf-idf')\n",
        "plt.ylabel('Frequency')\n",
        "plt.title('Distrubution of Feature Tf-idf')"
      ]
    },
    {
      "cell_type": "code",
      "execution_count": 57,
      "metadata": {
        "colab": {
          "base_uri": "https://localhost:8080/",
          "height": 313
        },
        "id": "xvxOUYNzVRG-",
        "outputId": "b42b5498-6636-4bcd-a072-5bcb7b985f07"
      },
      "outputs": [
        {
          "output_type": "execute_result",
          "data": {
            "text/plain": [
              "Text(0.5, 1.0, 'Distrubution of Random Feature Tf-idf')"
            ]
          },
          "metadata": {},
          "execution_count": 57
        },
        {
          "output_type": "display_data",
          "data": {
            "image/png": "[encoded data removed]",
            "text/plain": [
              "<Figure size 432x288 with 1 Axes>"
            ]
          },
          "metadata": {
            "needs_background": "light"
          }
        }
      ],
      "source": [
        "sns.histplot(np.log(news_train_tfidf_random.sum(axis=0)))\n",
        "#sns.histplot(np.log(news_test_vector.toarray().sum(axis=0)),color='skyblue')\n",
        "plt.xlabel('Log tf-idf')\n",
        "plt.ylabel('Frequency')\n",
        "plt.title('Distrubution of Random Feature Tf-idf')"
      ]
    },
    {
      "cell_type": "markdown",
      "metadata": {
        "id": "V3mNKcrwVCU0"
      },
      "source": [
        "# 140sentiment Acquiring"
      ]
    },
    {
      "cell_type": "markdown",
      "metadata": {
        "id": "3AMaDGSitdnj"
      },
      "source": [
        "Load google drive"
      ]
    },
    {
      "cell_type": "code",
      "execution_count": 58,
      "metadata": {
        "colab": {
          "base_uri": "https://localhost:8080/"
        },
        "id": "Ru9PlKIBrV4N",
        "outputId": "f2254a6d-974c-4a51-cef8-dc5b10ab4697"
      },
      "outputs": [
        {
          "output_type": "stream",
          "name": "stdout",
          "text": [
            "Drive already mounted at /content/drive; to attempt to forcibly remount, call drive.mount(\"/content/drive\", force_remount=True).\n"
          ]
        }
      ],
      "source": [
        "from google.colab import drive\n",
        "drive.mount('/content/drive')\n",
        "os.chdir('/content/drive/MyDrive')"
      ]
    },
    {
      "cell_type": "markdown",
      "metadata": {
        "id": "lFTpjt0iuPgo"
      },
      "source": [
        "Read data from google drive and attribute to target and text"
      ]
    },
    {
      "cell_type": "code",
      "execution_count": 59,
      "metadata": {
        "colab": {
          "base_uri": "https://localhost:8080/"
        },
        "id": "jFErra9iUikc",
        "outputId": "ad246bb2-f4b1-4341-b894-38e75aef6858"
      },
      "outputs": [
        {
          "output_type": "stream",
          "name": "stdout",
          "text": [
            "         sentiment          id                          date query_string  \\\n",
            "0                0  1467810369  Mon Apr 06 22:19:45 PDT 2009     NO_QUERY   \n",
            "1                0  1467810672  Mon Apr 06 22:19:49 PDT 2009     NO_QUERY   \n",
            "2                0  1467810917  Mon Apr 06 22:19:53 PDT 2009     NO_QUERY   \n",
            "3                0  1467811184  Mon Apr 06 22:19:57 PDT 2009     NO_QUERY   \n",
            "4                0  1467811193  Mon Apr 06 22:19:57 PDT 2009     NO_QUERY   \n",
            "...            ...         ...                           ...          ...   \n",
            "1599995          1  2193601966  Tue Jun 16 08:40:49 PDT 2009     NO_QUERY   \n",
            "1599996          1  2193601969  Tue Jun 16 08:40:49 PDT 2009     NO_QUERY   \n",
            "1599997          1  2193601991  Tue Jun 16 08:40:49 PDT 2009     NO_QUERY   \n",
            "1599998          1  2193602064  Tue Jun 16 08:40:49 PDT 2009     NO_QUERY   \n",
            "1599999          1  2193602129  Tue Jun 16 08:40:50 PDT 2009     NO_QUERY   \n",
            "\n",
            "                    user                                               text  \n",
            "0        _TheSpecialOne_  @switchfoot http://twitpic.com/2y1zl - Awww, t...  \n",
            "1          scotthamilton  is upset that he can't update his Facebook by ...  \n",
            "2               mattycus  @Kenichan I dived many times for the ball. Man...  \n",
            "3                ElleCTF    my whole body feels itchy and like its on fire   \n",
            "4                 Karoli  @nationwideclass no, it's not behaving at all....  \n",
            "...                  ...                                                ...  \n",
            "1599995  AmandaMarie1028  Just woke up. Having no school is the best fee...  \n",
            "1599996      TheWDBoards  TheWDB.com - Very cool to hear old Walt interv...  \n",
            "1599997           bpbabe  Are you ready for your MoJo Makeover? Ask me f...  \n",
            "1599998     tinydiamondz  Happy 38th Birthday to my boo of alll time!!! ...  \n",
            "1599999   RyanTrevMorris  happy #charitytuesday @theNSPCC @SparksCharity...  \n",
            "\n",
            "[1600000 rows x 6 columns]\n",
            "     sentiment     id                          date query_string  \\\n",
            "0            1      3  Mon May 11 03:17:40 UTC 2009      kindle2   \n",
            "1            1      4  Mon May 11 03:18:03 UTC 2009      kindle2   \n",
            "2            1      5  Mon May 11 03:18:54 UTC 2009      kindle2   \n",
            "3            1      6  Mon May 11 03:19:04 UTC 2009      kindle2   \n",
            "4            1      7  Mon May 11 03:21:41 UTC 2009      kindle2   \n",
            "..         ...    ...                           ...          ...   \n",
            "354          1  14071  Sun Jun 14 04:31:28 UTC 2009        latex   \n",
            "355          0  14073  Sun Jun 14 04:32:17 UTC 2009        latex   \n",
            "356          1  14074  Sun Jun 14 04:36:34 UTC 2009        latex   \n",
            "357          0  14075  Sun Jun 14 21:36:07 UTC 2009         iran   \n",
            "358          0  14076  Sun Jun 14 21:36:17 UTC 2009         iran   \n",
            "\n",
            "                user                                               text  \n",
            "0             tpryan  @stellargirl I loooooooovvvvvveee my Kindle2. ...  \n",
            "1             vcu451  Reading my kindle2...  Love it... Lee childs i...  \n",
            "2             chadfu  Ok, first assesment of the #kindle2 ...it fuck...  \n",
            "3              SIX15  @kenburbary You'll love your Kindle2. I've had...  \n",
            "4           yamarama  @mikefish  Fair enough. But i have the Kindle2...  \n",
            "..               ...                                                ...  \n",
            "354           yomcat  After using LaTeX a lot, any other typeset mat...  \n",
            "355           sam33r  On that note, I hate Word. I hate Pages. I hat...  \n",
            "356  iamtheonlyjosie  Ahhh... back in a *real* text editing environm...  \n",
            "357        plutopup7  Trouble in Iran, I see. Hmm. Iran. Iran so far...  \n",
            "358     captain_pete  Reading the tweets coming out of Iran... The w...  \n",
            "\n",
            "[359 rows x 6 columns]\n"
          ]
        }
      ],
      "source": [
        "cols = ['sentiment','id','date','query_string','user','text']\n",
        "\n",
        "senti_train_data=pd.read_csv('/content/drive/MyDrive/training.1600000.processed.noemoticon.csv',low_memory=False,encoding='latin-1',header=None,names=cols,engine='c')\n",
        "senti_train_data['sentiment']=(senti_train_data['sentiment']/4).astype(int)\n",
        "print(senti_train_data)\n",
        "senti_test_data=pd.read_csv('/content/drive/MyDrive/new_testdata.manual.2009.06.14.csv',names=cols)\n",
        "senti_test_data['sentiment']=(senti_test_data['sentiment']/4).astype(int)\n",
        "print(senti_test_data)\n"
      ]
    },
    {
      "cell_type": "markdown",
      "metadata": {
        "id": "HtXwmC7fx0mM"
      },
      "source": [
        "Drop other data"
      ]
    },
    {
      "cell_type": "code",
      "execution_count": 60,
      "metadata": {
        "colab": {
          "base_uri": "https://localhost:8080/"
        },
        "id": "6zipjk1NwHyH",
        "outputId": "9fc14454-2ebd-4a4f-a590-ad3c0d2222c0"
      },
      "outputs": [
        {
          "output_type": "stream",
          "name": "stdout",
          "text": [
            "        sentiment                                               text\n",
            "829283          1  Last song of the night: That's what you get by...\n",
            "809952          1  @rivensky Haha. Well I have more but I don't h...\n",
            "803303          1  Still no-one in reception.  Ach well more inte...\n",
            "844747          1  @johncmayer I made you an iMix John,  I hope y...\n",
            "810581          1              @sleep2dream GO BB GO.  you got this.\n",
            "...           ...                                                ...\n",
            "826058          1  Hmmm...leave some feedback on my blog whathave...\n",
            "827097          1  @thebookangel you are welcome... have a great ...\n",
            "805177          1  @JohnFletcher yea I'll meet you in the town ce...\n",
            "830263          1  @Meranda_Panda Thanks for 2 nite. Had an AWESO...\n",
            "812825          1  @morganholzer (Earmuffs @sprizzle) You can't p...\n",
            "\n",
            "[100000 rows x 2 columns]\n",
            "     sentiment                                               text\n",
            "0            1  @stellargirl I loooooooovvvvvveee my Kindle2. ...\n",
            "1            1  Reading my kindle2...  Love it... Lee childs i...\n",
            "2            1  Ok, first assesment of the #kindle2 ...it fuck...\n",
            "3            1  @kenburbary You'll love your Kindle2. I've had...\n",
            "4            1  @mikefish  Fair enough. But i have the Kindle2...\n",
            "..         ...                                                ...\n",
            "354          1  After using LaTeX a lot, any other typeset mat...\n",
            "355          0  On that note, I hate Word. I hate Pages. I hat...\n",
            "356          1  Ahhh... back in a *real* text editing environm...\n",
            "357          0  Trouble in Iran, I see. Hmm. Iran. Iran so far...\n",
            "358          0  Reading the tweets coming out of Iran... The w...\n",
            "\n",
            "[359 rows x 2 columns]\n"
          ]
        }
      ],
      "source": [
        "senti_train_data=senti_train_data.drop(['id','date','query_string','user'],axis=1,inplace=False)\n",
        "senti_test_data=senti_test_data.drop(['id','date','query_string','user'],axis=1,inplace=False)\n",
        "senti_train_data = pd.concat([senti_train_data[0:50000],senti_train_data[800000:850000]])\n",
        "senti_train_data = shuffle(senti_train_data)\n",
        "print(senti_train_data)\n",
        "print(senti_test_data)\n"
      ]
    },
    {
      "cell_type": "code",
      "execution_count": 60,
      "metadata": {
        "id": "BVfYEmcq2Z2Z"
      },
      "outputs": [],
      "source": [
        ""
      ]
    },
    {
      "cell_type": "markdown",
      "metadata": {
        "id": "60Sfo1Dvx5Sr"
      },
      "source": [
        "Divide data in to target and text"
      ]
    },
    {
      "cell_type": "code",
      "execution_count": 61,
      "metadata": {
        "id": "XIncaZNQxJSE"
      },
      "outputs": [],
      "source": [
        "senti_train_target = senti_train_data['sentiment']\n",
        "senti_train_text = senti_train_data['text']\n",
        "senti_test_target = senti_train_data['sentiment']\n",
        "senti_test_text = senti_train_data['text']"
      ]
    },
    {
      "cell_type": "markdown",
      "metadata": {
        "id": "T82KzRH41YSE"
      },
      "source": [
        "# 140sentiment Visualization\n",
        "\n"
      ]
    },
    {
      "cell_type": "markdown",
      "metadata": {
        "id": "lzpAbqVyuYKL"
      },
      "source": [
        "Training data sentiment distrubution is equally partitioned. "
      ]
    },
    {
      "cell_type": "code",
      "execution_count": null,
      "metadata": {
        "id": "nWHrwq_1wU5o"
      },
      "outputs": [],
      "source": [
        "senti_train_data.sentiment.value_counts()"
      ]
    },
    {
      "cell_type": "markdown",
      "metadata": {
        "id": "F0Tirgtiuehn"
      },
      "source": [
        "test data distribution"
      ]
    },
    {
      "cell_type": "code",
      "execution_count": null,
      "metadata": {
        "id": "vb8L0rcvwWW6"
      },
      "outputs": [],
      "source": [
        "senti_test_data.sentiment.value_counts()"
      ]
    },
    {
      "cell_type": "markdown",
      "metadata": {
        "id": "xSVgtDK5044c"
      },
      "source": [
        "Observe the text length distrubution, some of them exceends the length limits."
      ]
    },
    {
      "cell_type": "code",
      "execution_count": null,
      "metadata": {
        "id": "qFa-bWrYwhsl"
      },
      "outputs": [],
      "source": [
        "senti_train_data['length']=[len(text) for text in senti_train_data.text]\n",
        "print(senti_train_data)\n",
        "plt.hist(senti_train_data['length'])\n",
        "plt.show()"
      ]
    },
    {
      "cell_type": "markdown",
      "metadata": {
        "id": "op1ci8sm2Vy2"
      },
      "source": [
        "Observe that there are some invalid symbol/characters which may due to failed encoding conversion. (emoji, html )"
      ]
    },
    {
      "cell_type": "code",
      "execution_count": null,
      "metadata": {
        "id": "mKEyLaSwzw5K"
      },
      "outputs": [],
      "source": [
        "senti_train_data[senti_train_data.length > 140].head(20)"
      ]
    },
    {
      "cell_type": "markdown",
      "metadata": {
        "id": "dzHRYYcw4ho1"
      },
      "source": [
        "# 140sentiment Preprocessing"
      ]
    },
    {
      "cell_type": "markdown",
      "metadata": {
        "id": "Tlvv3zJ6987W"
      },
      "source": [
        "By observing the invalid symbols/characters from visualizaiton, it is decided to further remove non-english words besides the filter process which was done for 20newsgrousp (remove name, digits and similar words)"
      ]
    },
    {
      "cell_type": "code",
      "execution_count": 62,
      "metadata": {
        "id": "94_Xe32t6REu"
      },
      "outputs": [],
      "source": [
        "ewords = set(corpus.words.words())\n",
        "nnames = set(corpus.names.words())\n",
        "lemmatizer = WordNetLemmatizer()\n",
        "\n",
        "\n",
        "senti_train_filtered = []\n",
        "for record in senti_train_text:\n",
        "  senti_train_filtered.append(' '.join([lemmatizer.lemmatize(word.lower())\n",
        "              for word in record.split()\n",
        "              if word.isalpha() and word.lower() in ewords and word not in nnames]))\n",
        "  \n",
        "\n",
        "senti_test_filtered = []\n",
        "for record in senti_test_text:\n",
        "  senti_test_filtered.append(' '.join([lemmatizer.lemmatize(word.lower())\n",
        "              for word in record.split()\n",
        "              if word.isalpha() and word.lower() in ewords and word not in nnames]))"
      ]
    },
    {
      "cell_type": "markdown",
      "metadata": {
        "id": "6GfZOA5rBdsG"
      },
      "source": [
        "Original feature 12511"
      ]
    },
    {
      "cell_type": "code",
      "execution_count": 63,
      "metadata": {
        "colab": {
          "base_uri": "https://localhost:8080/"
        },
        "id": "envYAdoV-sPp",
        "outputId": "131a8b89-69b5-4d82-f4ad-c16079dcebf0"
      },
      "outputs": [
        {
          "output_type": "stream",
          "name": "stdout",
          "text": [
            "(100000, 12511)\n"
          ]
        }
      ],
      "source": [
        "vectorizer = CountVectorizer(stop_words='english')\n",
        "senti_train_vector = vectorizer.fit_transform(senti_train_filtered)\n",
        "senti_test_vector = vectorizer.transform(senti_test_filtered)\n",
        "print(senti_train_vector.shape)"
      ]
    },
    {
      "cell_type": "markdown",
      "metadata": {
        "id": "5J5YZKvEBigF"
      },
      "source": [
        "Selected feature(after variancethreshold=0.001)"
      ]
    },
    {
      "cell_type": "code",
      "execution_count": 64,
      "metadata": {
        "colab": {
          "base_uri": "https://localhost:8080/"
        },
        "id": "kcFE1X7SAvdO",
        "outputId": "93d18b42-f7a6-445f-aa2a-7ad70afdce4c"
      },
      "outputs": [
        {
          "output_type": "stream",
          "name": "stdout",
          "text": [
            "(100000, 563)\n"
          ]
        }
      ],
      "source": [
        "from sklearn.feature_selection import VarianceThreshold\n",
        "selector = VarianceThreshold(threshold=0.001)\n",
        "senti_train_var = selector.fit_transform(senti_train_vector)\n",
        "senti_test_var = selector.transform(senti_test_vector)\n",
        "print(senti_train_var.shape)"
      ]
    },
    {
      "cell_type": "markdown",
      "metadata": {
        "id": "1hRZWa1lGKkN"
      },
      "source": [
        "Random features(same number)"
      ]
    },
    {
      "cell_type": "code",
      "execution_count": 65,
      "metadata": {
        "colab": {
          "base_uri": "https://localhost:8080/"
        },
        "id": "nl5RGbF7v_Su",
        "outputId": "941d1b2d-f0a1-4e88-ffba-ffcb36563f04"
      },
      "outputs": [
        {
          "output_type": "stream",
          "name": "stdout",
          "text": [
            "(100000, 563)\n"
          ]
        }
      ],
      "source": [
        "col_rand_array = np.arange(senti_train_vector.shape[1])\n",
        "np.random.shuffle(col_rand_array)\n",
        "senti_train_randomvar=senti_train_vector[:,col_rand_array[0:senti_train_var.shape[1]]]\n",
        "senti_test_randomvar=senti_test_vector[:,col_rand_array[0:senti_test_var.shape[1]]]\n",
        "print(senti_train_randomvar.shape)"
      ]
    },
    {
      "cell_type": "markdown",
      "metadata": {
        "id": "2GT5aXCXBvli"
      },
      "source": [
        "Distribution of feature count"
      ]
    },
    {
      "cell_type": "code",
      "execution_count": 66,
      "metadata": {
        "colab": {
          "base_uri": "https://localhost:8080/",
          "height": 0
        },
        "id": "VfY6tEFzBNEn",
        "outputId": "9c09aa3a-4ae3-4eae-af24-b9d0c36d113e"
      },
      "outputs": [
        {
          "output_type": "execute_result",
          "data": {
            "text/plain": [
              "Text(0.5, 1.0, 'Distrubution of Feature Count')"
            ]
          },
          "metadata": {},
          "execution_count": 66
        },
        {
          "output_type": "display_data",
          "data": {
            "image/png": "[encoded data removed]",
            "text/plain": [
              "<Figure size 432x288 with 1 Axes>"
            ]
          },
          "metadata": {
            "needs_background": "light"
          }
        }
      ],
      "source": [
        "sns.histplot(np.log(senti_train_var.toarray().sum(axis=0)))\n",
        "#sns.histplot(np.log(news_test_vector.toarray().sum(axis=0)),color='skyblue')\n",
        "plt.xlabel('Log count')\n",
        "plt.ylabel('Frequency')\n",
        "plt.title('Distrubution of Feature Count')\n"
      ]
    },
    {
      "cell_type": "markdown",
      "metadata": {
        "id": "ke3vi3bSB70L"
      },
      "source": [
        "Distribution of same number random feature count"
      ]
    },
    {
      "cell_type": "code",
      "execution_count": 67,
      "metadata": {
        "colab": {
          "base_uri": "https://localhost:8080/",
          "height": 0
        },
        "id": "b6lTmgh4A6io",
        "outputId": "c64a1a97-adef-4889-e6b2-741bc520b3ba"
      },
      "outputs": [
        {
          "output_type": "execute_result",
          "data": {
            "text/plain": [
              "Text(0.5, 1.0, 'Distrubution of Random Feature Count')"
            ]
          },
          "metadata": {},
          "execution_count": 67
        },
        {
          "output_type": "display_data",
          "data": {
            "image/png": "[encoded data removed]",
            "text/plain": [
              "<Figure size 432x288 with 1 Axes>"
            ]
          },
          "metadata": {
            "needs_background": "light"
          }
        }
      ],
      "source": [
        "sns.histplot(np.log(senti_train_randomvar.toarray().sum(axis=0)))\n",
        "plt.xlabel('Log count')\n",
        "plt.ylabel('Frequency')\n",
        "plt.title('Distrubution of Random Feature Count')"
      ]
    },
    {
      "cell_type": "code",
      "execution_count": 68,
      "metadata": {
        "id": "tONTiON1BU3n"
      },
      "outputs": [],
      "source": [
        "tf_transformer = TfidfTransformer(use_idf=True,smooth_idf=True).fit(senti_train_var)\n",
        "senti_train_tfidf= tf_transformer.transform(senti_train_var).toarray()\n",
        "senti_test_tfidf = tf_transformer.transform(senti_test_var).toarray()\n"
      ]
    },
    {
      "cell_type": "code",
      "execution_count": 69,
      "metadata": {
        "colab": {
          "base_uri": "https://localhost:8080/",
          "height": 0
        },
        "id": "f0VAQU7tBY6A",
        "outputId": "7b8e2495-e770-4427-bfb4-6d7bc13118e8"
      },
      "outputs": [
        {
          "output_type": "execute_result",
          "data": {
            "text/plain": [
              "Text(0.5, 1.0, 'Distrubution of Feature Tf-idf')"
            ]
          },
          "metadata": {},
          "execution_count": 69
        },
        {
          "output_type": "display_data",
          "data": {
            "image/png": "[encoded data removed]",
            "text/plain": [
              "<Figure size 432x288 with 1 Axes>"
            ]
          },
          "metadata": {
            "needs_background": "light"
          }
        }
      ],
      "source": [
        "sns.histplot(np.log(senti_train_tfidf.sum(axis=0)))\n",
        "#sns.histplot(np.log(news_test_vector.toarray().sum(axis=0)),color='skyblue')\n",
        "plt.xlabel('Log tf-idf')\n",
        "plt.ylabel('Frequency')\n",
        "plt.title('Distrubution of Feature Tf-idf')"
      ]
    },
    {
      "cell_type": "code",
      "execution_count": 70,
      "metadata": {
        "id": "q9RwpRZnCC0a"
      },
      "outputs": [],
      "source": [
        "tf_transformer_random = TfidfTransformer(use_idf=True,smooth_idf=True).fit(senti_train_randomvar)\n",
        "senti_train_tfidf_random= tf_transformer.transform(senti_train_randomvar).toarray()\n",
        "senti_test_tfidf_random = tf_transformer.transform(senti_test_randomvar).toarray()"
      ]
    },
    {
      "cell_type": "code",
      "execution_count": 71,
      "metadata": {
        "colab": {
          "base_uri": "https://localhost:8080/",
          "height": 0
        },
        "id": "ohngq7QVChVP",
        "outputId": "18db0a22-bde6-42f4-c79f-991e12001130"
      },
      "outputs": [
        {
          "output_type": "execute_result",
          "data": {
            "text/plain": [
              "Text(0.5, 1.0, 'Distrubution of Random Feature Tf-idf')"
            ]
          },
          "metadata": {},
          "execution_count": 71
        },
        {
          "output_type": "display_data",
          "data": {
            "image/png": "[encoded data removed]",
            "text/plain": [
              "<Figure size 432x288 with 1 Axes>"
            ]
          },
          "metadata": {
            "needs_background": "light"
          }
        }
      ],
      "source": [
        "sns.histplot(np.log(senti_train_tfidf_random.sum(axis=0)))\n",
        "plt.xlabel('Log tf-idf')\n",
        "plt.ylabel('Frequency')\n",
        "plt.title('Distrubution of Random Feature Tf-idf')"
      ]
    },
    {
      "cell_type": "markdown",
      "metadata": {
        "id": "sMgxuuBII4qD"
      },
      "source": [
        "# Gaussian Naive Bayes"
      ]
    },
    {
      "cell_type": "code",
      "execution_count": 72,
      "metadata": {
        "id": "bQu0Sz9NI777"
      },
      "outputs": [],
      "source": [
        "\n",
        "class GaussianNaiveBayes:\n",
        "    \n",
        "    def __init__(self):\n",
        "        return\n",
        "    \n",
        "    def fit(self, x, y):\n",
        "        N, D = x.shape\n",
        "        C = np.max(y) + 1\n",
        "        # one parameter for each feature conditioned on each class\n",
        "        mu, sigma = np.zeros((C,D)), np.zeros((C,D))\n",
        "        Nc = np.zeros(C) # number of instances in class c\n",
        "        # for each class get the MLE for the mean and std\n",
        "        for c in range(C):\n",
        "            x_c = x[y == c]                           #slice all the elements from class c\n",
        "            Nc[c] = x_c.shape[0]                      #get number of elements of class c\n",
        "            mu[c,:] = np.mean(x_c,0) + 0.01                 #mean of features of class c\n",
        "            sigma[c,:] = np.std(x_c, 0) +0.01           #std of features of class c\n",
        "            \n",
        "        self.mu = mu                                  # C x D\n",
        "        self.sigma = sigma                            # C x D\n",
        "        self.pi = (Nc+1)/(N+C)                        #Laplace smoothing (using alpha_c=1 for all c) you can derive using Dirichlet's distribution\n",
        "        return self"
      ]
    },
    {
      "cell_type": "code",
      "execution_count": 73,
      "metadata": {
        "id": "NBk5OqvXI-Dj"
      },
      "outputs": [],
      "source": [
        "def logsumexp(Z):                                                # dimension C x N\n",
        "    Zmax = np.max(Z,axis=0)[None,:]                              # max over C\n",
        "    log_sum_exp = Zmax + np.log(np.sum(np.exp(Z - Zmax), axis=0))\n",
        "    return log_sum_exp\n",
        "\n",
        "def predict(self, xt):\n",
        "    Nt, D = xt.shape\n",
        "    # for numerical stability we work in the log domain\n",
        "    # we add a dimension because this is added to the log-likelihood matrix \n",
        "    # that assigns a likelihood for each class (C) to each test point, and so it is C x N\n",
        "    log_prior = np.log(self.pi)[:, None]\n",
        "    # logarithm of the likelihood term for Gaussian \n",
        "    # the first two terms are the logarithm of the normalization term in the Gaussian and the final term is the exponent in the Gaussian. \n",
        "    # Notice that we are adding dimensions (using None) to model parameters and data to make this evaluation. \n",
        "    # The reason is that sigma and mu are C x D, while the data x is N x D. We operate on a C x N x D shape by increasing the number of dimensions when needed\n",
        "    log_likelihood = -.5 * np.log(2*np.pi) - np.log(self.sigma[:,None,:]) -.5 * (((xt[None,:,:] - self.mu[:,None,:])/self.sigma[:,None,:])**2)\n",
        "    # now we sum over the feature dimension to get a C x N matrix (this has the log-likelihood for each class-test point combination)\n",
        "    log_likelihood = np.sum(log_likelihood, axis=2)\n",
        "    # posterior calculation\n",
        "    log_posterior = log_prior + log_likelihood\n",
        "    posterior = np.exp(log_posterior - logsumexp(log_posterior))\n",
        "    return posterior.T                                                  # dimension N x C\n",
        "\n",
        "GaussianNaiveBayes.predict = predict"
      ]
    },
    {
      "cell_type": "markdown",
      "metadata": {
        "id": "3sgOte6KtCU0"
      },
      "source": [
        "# Multinomial Naive Bayes"
      ]
    },
    {
      "cell_type": "code",
      "execution_count": 74,
      "metadata": {
        "id": "Cm1rP2LOtpvd"
      },
      "outputs": [],
      "source": [
        "class MultiNaiveBayes:\n",
        "    \n",
        "    def __init__(self,alpha):\n",
        "        self.alpha = alpha\n",
        "        return\n",
        "    \n",
        "    def fit(self, x, y):\n",
        "        N, D = x.shape\n",
        "        C = np.max(y) + 1\n",
        "        # one parameter for each feature conditioned on each class\n",
        "        theta = np.zeros((C,D))\n",
        "        Nc = np.zeros(C) # number of instances in class c\n",
        "        # for each class get the MLE for the mean and std\n",
        "        for c in range(C):\n",
        "          x_c = x_train[y_train == c]                #slice all the elements from class c\n",
        "          Nc[c] = x_c.shape[0]\n",
        "          for d in range(D):\n",
        "            theta[c,d]=(np.sum(x_c[:,d])+self.alpha)/(np.sum(x_c)+(self.alpha*D))      #Laplace smoothing using alhpha_theta = 1\n",
        "            \n",
        "        self.theta = theta\n",
        "        self.pi=(Nc+1)/(N+C)                       #Laplace smoothing (using alpha_c=1 for all c) you can derive using Dirichlet's distribution\n",
        "        return self"
      ]
    },
    {
      "cell_type": "code",
      "execution_count": 75,
      "metadata": {
        "id": "g-hbiWkQt32o"
      },
      "outputs": [],
      "source": [
        "def logsumexp(Z):                                                # dimension C x N\n",
        "    Zmax = np.max(Z,axis=0)[None,:]                              # max over C\n",
        "    log_sum_exp = Zmax + np.log(np.sum(np.exp(Z - Zmax), axis=0))\n",
        "    return log_sum_exp\n",
        "\n",
        "def predict(self, xt):\n",
        "    \n",
        "    Nt, D = xt.shape\n",
        "    # for numerical stability we work in the log domain\n",
        "    # we add a dimension because this is added to the log-likelihood matrix \n",
        "    # that assigns a likelihood for each class (C) to each test point, and so it is C x N\n",
        "    log_prior = np.log(self.pi)[:, None]\n",
        "    # logarithm of the likelihood term for Multinomial\n",
        "    # the first two terms are the logarithm of the normalization term in the Multinomial and the final term is the exponent in the Multinomail. \n",
        "    # Notice that we are adding dimensions (using None) to model parameters and data to make this evaluation. \n",
        "    # The reason is that theta are C x D, while the data x is N x D. We operate on a C x N x D shape by increasing the number of dimensions when needed\n",
        "    log_likelihood = np.log(np.power(self.theta[:,None,:],xt[None,:,:])) \n",
        "    # now we sum over the feature dimension to get a C x N matrix (this has the log-likelihood for each class-test point combination)\n",
        "    log_likelihood = np.sum(log_likelihood, axis=2)\n",
        "    # posterior calculation\n",
        "    log_posterior = log_prior + log_likelihood\n",
        "    posterior = np.exp(log_posterior - logsumexp(log_posterior))\n",
        "    return posterior.T                           # dimension N x C\n",
        "\n",
        "MultiNaiveBayes.predict = predict"
      ]
    },
    {
      "cell_type": "markdown",
      "metadata": {
        "id": "iWYTAS_C68Qh"
      },
      "source": [
        "# Evaluation Functions"
      ]
    },
    {
      "cell_type": "markdown",
      "metadata": {
        "id": "pAnz4ao49ovT"
      },
      "source": [
        "Take true label and target labels, output accuracy."
      ]
    },
    {
      "cell_type": "code",
      "execution_count": 85,
      "metadata": {
        "id": "T_ztCted7OW0"
      },
      "outputs": [],
      "source": [
        " def evaluate_acc(y_output,y_target):\n",
        "   accuracy = np.sum(y_output == y_target)/y_output.shape[0]\n",
        "   return accuracy"
      ]
    },
    {
      "cell_type": "markdown",
      "metadata": {
        "id": "B2kUHoCM9uAX"
      },
      "source": [
        "Take training data as inputs and splits into n folds."
      ]
    },
    {
      "cell_type": "code",
      "execution_count": 86,
      "metadata": {
        "id": "cprKnJh191Xt"
      },
      "outputs": [],
      "source": [
        "def cross_validate_split(n, n_folds):\n",
        "  n_val = n // n_folds\n",
        "  inds = np.random.permutation(n)\n",
        "  inds = []\n",
        "  for f in range(n_folds):\n",
        "    tr_inds = []\n",
        "    val_inds = list(range(f*n_val, (f+1)*n_val))\n",
        "    if f > 0:\n",
        "      tr_inds = list(range(f*n_val))\n",
        "    if f < n_folds - 1:\n",
        "      tr_inds = tr_inds + list(range((f+1)*n_val,n))\n",
        "    yield tr_inds, val_inds"
      ]
    },
    {
      "cell_type": "code",
      "execution_count": 87,
      "metadata": {
        "id": "FvHltZvL-MVN"
      },
      "outputs": [],
      "source": [
        "def cross_validate_mnb(num_folds,x,y):\n",
        "  (num_instances,num_features),num_classes = x.shape, np.max(y)+1\n",
        "  alpha_list = [0.001,0.01,0.1,0,1,10]\n",
        "  \n",
        "  acc_valid = np.zeros((len(alpha_list), num_folds))\n",
        "  for i,a in enumerate(alpha_list):\n",
        "    mnb = MultiNaiveBayes(alpha=a)\n",
        "    for f, (tr,val) in enumerate(cross_validate_split(num_instances,num_folds)):\n",
        "      probs_test = mnb.fit(x[tr],y[tr]).predict(x[val])\n",
        "      y_pred = np.argmax(probs_test,1)\n",
        "      acc_valid[i,f] = np.sum(y_pred == y[val])/y[val].shape[0]\n",
        "\n",
        "  for i in range(len(alpha_list)):\n",
        "    print('Using alpha:' + str(alpha_list[i]) +' '+ 'Mean Accuracy:' + str(np.mean(acc_valid[i])) + ' '+'Std:' + str(np.std(acc_valid[i])))\n",
        "\n",
        "\n",
        "  plt.errorbar(alpha_list, np.mean(acc_valid, axis=1), np.std(acc_valid, axis=1), label='validation')\n",
        "  plt.legend()\n",
        "  plt.xlabel('a(smoothing factor)')\n",
        "  plt.ylabel('mean accuracy')\n",
        "  plt.show()    \n",
        "    "
      ]
    },
    {
      "cell_type": "code",
      "execution_count": 88,
      "metadata": {
        "id": "Lx8Al4QhG0Tp"
      },
      "outputs": [],
      "source": [
        "def cross_validate_lr(num_folds,x,y):\n",
        "  (num_instances,num_features),num_classes = x.shape, np.max(y)+1\n",
        "  penalty = ['l2','none'] \n",
        "  max_iter = [1000,5000,10000]\n",
        "  accuracy = []\n",
        "  for iter in max_iter:\n",
        "    acc_valid = np.zeros((len(penalty), num_folds))\n",
        "    for i, p in enumerate(penalty):\n",
        "      lr = LogisticRegression(penalty=p,max_iter=iter)\n",
        "      for f, (tr,val) in enumerate(cross_validate_split(num_instances,num_folds)):\n",
        "        probs_test = lr.fit(x[tr],y[tr]).predict(x[val])\n",
        "        y_pred = np.argmax(probs_test)\n",
        "        acc_valid[i,f] = np.sum(y_pred == y[val])/y[val].shape[0]\n",
        "    accuracy.append(acc_valid)\n",
        "\n",
        "  plt.plot(penalty, np.mean(accuracy[0],axis=1), label = '1000 max_iter')\n",
        "  plt.plot(penalty, np.mean(accuracy[1],axis=1), label = '5000 max_iter')\n",
        "  plt.plot(penalty, np.mean(accuracy[1],axis=1), label = '10000 max_iter')\n",
        "  plt.legend()\n",
        "  plt.xticks(range(len(penalty)),penalty)\n",
        "  plt.xlabel('penalty')\n",
        "  plt.ylabel('Mean accuracy')\n",
        "  plt.show()"
      ]
    },
    {
      "cell_type": "markdown",
      "metadata": {
        "id": "kV4J-wfTckc1"
      },
      "source": [
        "# 20newsgroups Parameter Tuning\n"
      ]
    },
    {
      "cell_type": "code",
      "execution_count": null,
      "metadata": {
        "id": "_k4-3EZUDo-L"
      },
      "outputs": [],
      "source": [
        "x_train, x_test, y_train, y_test = news_train_tfidf,news_test_tfidf,news_train.target,news_test.target"
      ]
    },
    {
      "cell_type": "code",
      "execution_count": null,
      "metadata": {
        "id": "YbCrFPeSDq9V"
      },
      "outputs": [],
      "source": [
        "cross_validate_mnb(5,x_train,y_train)"
      ]
    },
    {
      "cell_type": "code",
      "execution_count": null,
      "metadata": {
        "colab": {
          "base_uri": "https://localhost:8080/"
        },
        "id": "2-J84fUGJQPs",
        "outputId": "f514f531-d0d7-425b-aedb-729d6f360128"
      },
      "outputs": [
        {
          "output_type": "stream",
          "name": "stderr",
          "text": [
            "/usr/local/lib/python3.7/dist-packages/sklearn/linear_model/_logistic.py:818: ConvergenceWarning: lbfgs failed to converge (status=1):\n",
            "STOP: TOTAL NO. of ITERATIONS REACHED LIMIT.\n",
            "\n",
            "Increase the number of iterations (max_iter) or scale the data as shown in:\n",
            "    https://scikit-learn.org/stable/modules/preprocessing.html\n",
            "Please also refer to the documentation for alternative solver options:\n",
            "    https://scikit-learn.org/stable/modules/linear_model.html#logistic-regression\n",
            "  extra_warning_msg=_LOGISTIC_SOLVER_CONVERGENCE_MSG,\n"
          ]
        }
      ],
      "source": [
        "\n",
        "cross_validate_lr(5,x_train,y_train)"
      ]
    },
    {
      "cell_type": "markdown",
      "metadata": {
        "id": "ZiiagDPSHyTx"
      },
      "source": [
        "# 20newsgroups Experiment"
      ]
    },
    {
      "cell_type": "code",
      "execution_count": 80,
      "metadata": {
        "id": "sMJi0t3jWFD5"
      },
      "outputs": [],
      "source": [
        "x_train, x_test, y_train, y_test = news_train_tfidf,news_test_tfidf,news_train.target,news_test.target"
      ]
    },
    {
      "cell_type": "code",
      "execution_count": null,
      "metadata": {
        "id": "7uNSXuQCVk_L"
      },
      "outputs": [],
      "source": [
        "x_train_random, x_test_random, y_train_random, y_test_random = news_train_tfidf_random,news_test_tfidf_random,news_train.target,news_test.target"
      ]
    },
    {
      "cell_type": "markdown",
      "metadata": {
        "id": "cIz0nkz83t4g"
      },
      "source": [
        "MultiNaiveBayes:"
      ]
    },
    {
      "cell_type": "code",
      "execution_count": 81,
      "metadata": {
        "colab": {
          "base_uri": "https://localhost:8080/"
        },
        "id": "puxPamwnPi5h",
        "outputId": "1609fd71-2457-42a6-f9de-98da4a7a5f0a"
      },
      "outputs": [
        {
          "output_type": "stream",
          "name": "stdout",
          "text": [
            "[ 7  5 10 ...  9 12 15]\n",
            "test accuracy: 0.5511152416356877\n"
          ]
        }
      ],
      "source": [
        "\n",
        "mnb = MultiNaiveBayes(alpha=0.001)\n",
        "mnb.fit(x_train, y_train)\n",
        "y_prob = mnb.predict(x_test)\n",
        "y_pred = np.argmax(y_prob, 1)\n",
        "accuracy = evaluate_acc(y_pred,y_test)\n",
        "print(y_pred)\n",
        "print(f'test accuracy: {accuracy}')\n"
      ]
    },
    {
      "cell_type": "code",
      "execution_count": null,
      "metadata": {
        "id": "Zgu6Rm1KhGAW"
      },
      "outputs": [],
      "source": [
        "\n",
        "mnbmetrics = metrics.confusion_matrix(y_pred,y_test)\n",
        "#print(mnbmetrics)"
      ]
    },
    {
      "cell_type": "code",
      "execution_count": null,
      "metadata": {
        "colab": {
          "base_uri": "https://localhost:8080/"
        },
        "id": "0KbTSB3fiQDz",
        "outputId": "f07c001d-7050-4f21-937a-32be9de00669"
      },
      "outputs": [
        {
          "name": "stdout",
          "output_type": "stream",
          "text": [
            "Multinomial Naive Bayes Classification Error: 0.4488847583643123\n",
            "Multinomial Naive Bayes Sensitivity: 0.5511152416356877\n",
            "Multinomial Naive Bayes Precision: 0.5814190996125577\n"
          ]
        }
      ],
      "source": [
        "print('Multinomial Naive Bayes Classification Error:', 1-metrics.accuracy_score(y_pred,y_test))\n",
        "print('Multinomial Naive Bayes Sensitivity:', metrics.recall_score(y_pred,y_test,average='weighted'))\n",
        "print('Multinomial Naive Bayes Precision:', metrics.precision_score(y_pred,y_test,average='weighted'))"
      ]
    },
    {
      "cell_type": "code",
      "execution_count": null,
      "metadata": {
        "colab": {
          "base_uri": "https://localhost:8080/"
        },
        "id": "d7dx0ENbVx1Q",
        "outputId": "5f8b7cba-01f1-42be-abe4-97a733050e76"
      },
      "outputs": [
        {
          "name": "stdout",
          "output_type": "stream",
          "text": [
            "[10  5 10 ...  3 10 10]\n",
            "test (random feature) accuracy: 0.06386086032926182\n"
          ]
        }
      ],
      "source": [
        "mnb = MultiNaiveBayes(alpha=0.001)\n",
        "mnb.fit(x_train_random, y_train_random)\n",
        "y_prob = mnb.predict(x_test_random)\n",
        "y_pred = np.argmax(y_prob, 1)\n",
        "accuracy = evaluate_acc(y_pred,y_test_random)\n",
        "print(y_pred)\n",
        "print(f'test (random feature) accuracy: {accuracy}')"
      ]
    },
    {
      "cell_type": "code",
      "execution_count": null,
      "metadata": {
        "colab": {
          "base_uri": "https://localhost:8080/"
        },
        "id": "ZC4dzjp5K7fP",
        "outputId": "1f81f24b-5843-43ae-c293-b4164e68d28d"
      },
      "outputs": [
        {
          "name": "stdout",
          "output_type": "stream",
          "text": [
            "[ 7  5  9 ... 11  6  0]\n",
            "test accuracy: 0.4840679766330324\n"
          ]
        }
      ],
      "source": [
        "gnb = GaussianNaiveBayes()\n",
        "gnb.fit(x_train, y_train)\n",
        "y_prob = gnb.predict(x_test)\n",
        "y_pred = np.argmax(y_prob, 1)\n",
        "accuracy = evaluate_acc(y_pred,y_test)\n",
        "print(y_pred)\n",
        "print(f'test accuracy: {accuracy}')"
      ]
    },
    {
      "cell_type": "code",
      "execution_count": null,
      "metadata": {
        "colab": {
          "base_uri": "https://localhost:8080/"
        },
        "id": "7oat4j0hWPVX",
        "outputId": "f13cb633-70e1-4d6f-c7d1-59289da360c0"
      },
      "outputs": [
        {
          "name": "stdout",
          "output_type": "stream",
          "text": [
            "[ 2  7  2 ... 15  2  2]\n",
            "test (random feature) accuracy: 0.18228890069038767\n"
          ]
        }
      ],
      "source": [
        "gnb = GaussianNaiveBayes()\n",
        "gnb.fit(x_train_random, y_train_random)\n",
        "y_prob = gnb.predict(x_test_random)\n",
        "y_pred = np.argmax(y_prob, 1)\n",
        "accuracy = evaluate_acc(y_pred,y_test_random)\n",
        "print(y_pred)\n",
        "print(f'test (random feature) accuracy: {accuracy}')"
      ]
    },
    {
      "cell_type": "markdown",
      "metadata": {
        "id": "Zr837VpqhBy7"
      },
      "source": [
        "Further analysis using confusion matrix"
      ]
    },
    {
      "cell_type": "markdown",
      "metadata": {
        "id": "BxE4genp3xca"
      },
      "source": [
        "LogisticRegression:"
      ]
    },
    {
      "cell_type": "code",
      "execution_count": 82,
      "metadata": {
        "colab": {
          "base_uri": "https://localhost:8080/"
        },
        "id": "mh2HN4PP34Fd",
        "outputId": "b4dc736c-293e-4ad9-c8ad-68282b051f3a"
      },
      "outputs": [
        {
          "output_type": "stream",
          "name": "stdout",
          "text": [
            "[15  1  8 ... 10 12 15]\n",
            "test accuracy: 0.5658523632501328\n"
          ]
        }
      ],
      "source": [
        "lr = LogisticRegression(solver='lbfgs',max_iter=1000)\n",
        "lr.fit(x_train, y_train)\n",
        "y_prob = lr.predict_log_proba(x_test)\n",
        "y_pred = np.argmax(y_prob, 1)\n",
        "accuracy = np.mean(y_pred == news_test.target)\n",
        "print(y_pred)\n",
        "print(f'test accuracy: {accuracy}')"
      ]
    },
    {
      "cell_type": "code",
      "execution_count": null,
      "metadata": {
        "id": "LV_wEKj8Fooc"
      },
      "outputs": [],
      "source": [
        "lrmetrics = metrics.confusion_matrix(y_pred,y_test)\n",
        "#print(lrmetrics)"
      ]
    },
    {
      "cell_type": "code",
      "execution_count": null,
      "metadata": {
        "colab": {
          "base_uri": "https://localhost:8080/"
        },
        "id": "QzZQd7doFqFN",
        "outputId": "93569818-8f8b-424d-e1b9-508f868d0b1e"
      },
      "outputs": [
        {
          "name": "stdout",
          "output_type": "stream",
          "text": [
            "Logistic Regression Classification Error: 0.4341476367498672\n",
            "Logistic Regression Sensitivity: 0.5658523632501328\n",
            "Logistic Regression Precision: 0.5806275333517751\n"
          ]
        }
      ],
      "source": [
        "print('Logistic Regression Classification Error:', 1-metrics.accuracy_score(y_pred,y_test))\n",
        "print('Logistic Regression Sensitivity:', metrics.recall_score(y_pred,y_test,average='weighted'))\n",
        "print('Logistic Regression Precision:', metrics.precision_score(y_pred,y_test,average='weighted'))"
      ]
    },
    {
      "cell_type": "code",
      "execution_count": null,
      "metadata": {
        "colab": {
          "base_uri": "https://localhost:8080/"
        },
        "id": "VDstDY5QWh_s",
        "outputId": "4a76ac4d-96ae-4a75-bffa-f0971f739312"
      },
      "outputs": [
        {
          "name": "stdout",
          "output_type": "stream",
          "text": [
            "[8 7 8 ... 0 8 8]\n",
            "test (random feature) accuracy: 0.21548061603823684\n"
          ]
        }
      ],
      "source": [
        "lr = LogisticRegression(solver='lbfgs',max_iter=1000)\n",
        "lr.fit(x_train_random, y_train_random)\n",
        "y_prob = lr.predict_log_proba(x_test_random)\n",
        "y_pred = np.argmax(y_prob, 1)\n",
        "accuracy = np.mean(y_pred == news_test.target)\n",
        "print(y_pred)\n",
        "print(f'test (random feature) accuracy: {accuracy}')"
      ]
    },
    {
      "cell_type": "markdown",
      "metadata": {
        "id": "KKArrP64UzOZ"
      },
      "source": [
        "# 140sentiment Parameter Tuning"
      ]
    },
    {
      "cell_type": "code",
      "execution_count": null,
      "metadata": {
        "id": "18Ev3oGTU3Iy"
      },
      "outputs": [],
      "source": [
        "x_train, x_test, y_train, y_test = senti_train_tfidf,senti_test_tfidf,senti_train_target.to_numpy(),senti_test_target"
      ]
    },
    {
      "cell_type": "code",
      "execution_count": null,
      "metadata": {
        "id": "wO5zrEa0VIHn"
      },
      "outputs": [],
      "source": [
        "cross_validate_mnb(5,x_train,y_train)"
      ]
    },
    {
      "cell_type": "code",
      "execution_count": null,
      "metadata": {
        "id": "VaaJgsPSVKnF"
      },
      "outputs": [],
      "source": [
        "cross_validate_lr(5,x_train,y_train)"
      ]
    },
    {
      "cell_type": "markdown",
      "metadata": {
        "id": "ARRnSMeGJLA8"
      },
      "source": [
        "# 140sentiment Experiment"
      ]
    },
    {
      "cell_type": "code",
      "execution_count": null,
      "metadata": {
        "id": "-VVd_8TLJOIh"
      },
      "outputs": [],
      "source": [
        "x_train, x_test, y_train, y_test = senti_train_tfidf,senti_test_tfidf,senti_train_target,senti_test_target"
      ]
    },
    {
      "cell_type": "code",
      "execution_count": null,
      "metadata": {
        "id": "1rCcpRp7C59A"
      },
      "outputs": [],
      "source": [
        "x_train_random, x_test_random, y_train_random, y_test_random = senti_train_tfidf_random,senti_test_tfidf_random,senti_train_target,senti_test_target"
      ]
    },
    {
      "cell_type": "markdown",
      "metadata": {
        "id": "sh_fmCWPJtoK"
      },
      "source": [
        "mnb trained with 140sentiment dataset with selected features."
      ]
    },
    {
      "cell_type": "code",
      "execution_count": null,
      "metadata": {
        "id": "Qs5L4rDaJcch"
      },
      "outputs": [],
      "source": [
        "mnb = MultiNaiveBayes(alpha=0.001)\n",
        "mnb.fit(x_train, y_train)\n",
        "y_prob = mnb.predict(x_test)\n",
        "y_pred = np.argmax(y_prob, 1)\n",
        "accuracy = evaluate_acc(y_pred,y_test)\n",
        "print(y_pred)\n",
        "print(f'test accuracy: {accuracy}')\n"
      ]
    },
    {
      "cell_type": "markdown",
      "metadata": {
        "id": "ZPJ9GovUJ6RT"
      },
      "source": [
        "mnb trained with 140sentiment dataset with random features."
      ]
    },
    {
      "cell_type": "code",
      "execution_count": null,
      "metadata": {
        "id": "iUxnJ3cXO1Wy"
      },
      "outputs": [],
      "source": [
        "mnbmetrics = metrics.confusion_matrix(y_pred,y_test)\n",
        "#print(mnbmetrics)\n",
        "print('Multinomial Naive Bayes Classification Error:', 1-metrics.accuracy_score(y_pred,y_test))\n",
        "print('Multinomial Naive Bayes Sensitivity:', metrics.recall_score(y_pred,y_test,average='weighted'))\n",
        "print('Multinomial Naive Bayes Precision:', metrics.precision_score(y_pred,y_test,average='weighted'))"
      ]
    },
    {
      "cell_type": "code",
      "execution_count": null,
      "metadata": {
        "id": "YqgUuJN6DiXh"
      },
      "outputs": [],
      "source": [
        "mnb = MultiNaiveBayes(alpha=0.001)\n",
        "mnb.fit(x_train_random, y_train_random)\n",
        "y_prob = mnb.predict(x_test_random)\n",
        "y_pred = np.argmax(y_prob, 1)\n",
        "accuracy = evaluate_acc(y_pred,y_test_random)\n",
        "print(y_pred)\n",
        "print(f'test (random feature) accuracy: {accuracy}')"
      ]
    },
    {
      "cell_type": "markdown",
      "metadata": {
        "id": "3yXJ6phuKHmi"
      },
      "source": [
        "gnb trained with 140sentiment dataset with selected features."
      ]
    },
    {
      "cell_type": "code",
      "execution_count": null,
      "metadata": {
        "id": "F6PU3KrwKDN5"
      },
      "outputs": [],
      "source": [
        "gnb = GaussianNaiveBayes()\n",
        "gnb.fit(x_train, y_train)\n",
        "y_prob = gnb.predict(x_test)\n",
        "y_pred = np.argmax(y_prob, 1)\n",
        "accuracy = evaluate_acc(y_pred,y_test)\n",
        "print(y_pred)\n",
        "print(f'test accuracy: {accuracy}')"
      ]
    },
    {
      "cell_type": "code",
      "execution_count": null,
      "metadata": {
        "id": "TqjMNyRiL8Nc"
      },
      "outputs": [],
      "source": [
        "gnb = GaussianNaiveBayes()\n",
        "gnb.fit(x_train_random, y_train_random)\n",
        "y_prob = gnb.predict(x_test_random)\n",
        "y_pred = np.argmax(y_prob, 1)\n",
        "accuracy = evaluate_acc(y_pred,y_test_random)\n",
        "print(y_pred)\n",
        "print(f'test(random feature) accuracy: {accuracy}')"
      ]
    },
    {
      "cell_type": "code",
      "execution_count": null,
      "metadata": {
        "id": "swkLKW0gOd-G"
      },
      "outputs": [],
      "source": [
        "lr = LogisticRegression(solver='lbfgs',max_iter=1000)\n",
        "lr.fit(x_train, y_train)\n",
        "y_prob = lr.predict_log_proba(x_test)\n",
        "y_pred = np.argmax(y_prob, 1)\n",
        "accuracy = np.mean(y_pred == y_test)\n",
        "print(y_pred)\n",
        "print(f'test accuracy: {accuracy}')"
      ]
    },
    {
      "cell_type": "code",
      "execution_count": null,
      "metadata": {
        "id": "1jTULINcO9P7"
      },
      "outputs": [],
      "source": [
        "lrmetrics = metrics.confusion_matrix(y_pred,y_test)\n",
        "#print(lrmetrics)\n",
        "print('Logistic Regression Classification Error:', 1-metrics.accuracy_score(y_pred,y_test))\n",
        "print('Logistic Regression Sensitivity:', metrics.recall_score(y_pred,y_test,average='weighted'))\n",
        "print('Logistic Regression Precision:', metrics.precision_score(y_pred,y_test,average='weighted'))\n"
      ]
    },
    {
      "cell_type": "code",
      "execution_count": null,
      "metadata": {
        "id": "xCbGGybVEENU"
      },
      "outputs": [],
      "source": [
        "lr = LogisticRegression(solver='lbfgs',max_iter=1000)\n",
        "lr.fit(x_train, y_train)\n",
        "y_prob = lr.predict_log_proba(x_test_random)\n",
        "y_pred = np.argmax(y_prob, 1)\n",
        "accuracy = np.mean(y_pred == y_test_random)\n",
        "print(y_pred)\n",
        "print(f'test (random feature) accuracy: {accuracy}')"
      ]
    },
    {
      "cell_type": "markdown",
      "metadata": {
        "id": "FRuHYcR-Oi8N"
      },
      "source": [
        "# 20newsgroups Random data selection"
      ]
    },
    {
      "cell_type": "code",
      "execution_count": null,
      "metadata": {
        "id": "3m0MLFIQPKCa"
      },
      "outputs": [],
      "source": [
        "def random_data(x,y,n):\n",
        "  (num_instances,num_features),num_classes = x.shape, np.max(y)\n",
        "  n_select = int(num_instances * n)\n",
        "  inds = np.random.permutation(num_instances)\n",
        "  x_select,y_select = x[inds[:n_select]],y[inds[:n_select]]\n",
        "  return x_select,y_select"
      ]
    },
    {
      "cell_type": "code",
      "execution_count": null,
      "metadata": {
        "id": "GfRhsnIIQD8b"
      },
      "outputs": [],
      "source": [
        "x_test, y_test = news_test_tfidf,news_test.target\n",
        "size_list = [0.2,0.4,0.6,0.8]\n",
        "\n",
        "acc_lr = []\n",
        "acc_mnb = []\n",
        "\n",
        "for s in size_list:\n",
        "  x_train,y_train = random_data(news_train_tfidf,news_train.target,s)\n",
        "\n",
        "  lr = LogisticRegression(max_iter=1000)\n",
        "  lr.fit(x_train, y_train)\n",
        "  y_prob = lr.predict_log_proba(x_test)\n",
        "  y_pred = np.argmax(y_prob, 1)\n",
        "  acc_lr.append(evaluate_acc(y_pred,y_test))\n",
        "\n",
        "  mnb = MultiNaiveBayes(alpha=1)\n",
        "  y_prob = mnb.fit(x_train, y_train).predict(x_test)\n",
        "  y_pred = np.argmax(y_prob, 1)\n",
        "  acc_mnb.append(evaluate_acc(y_pred,y_test))\n",
        "\n",
        "\n",
        "plt.plot(size_list, acc_mnb, label = 'mnb')\n",
        "plt.plot(size_list, acc_lr, label = 'lr')\n",
        "plt.legend()\n",
        "plt.xlabel('Dataset size')\n",
        "plt.ylabel('Accuracy')\n",
        "plt.show()\n",
        "\n"
      ]
    },
    {
      "cell_type": "markdown",
      "metadata": {
        "id": "9Q-pG8UwPRHs"
      },
      "source": [
        "# 140sentiment Random data selection"
      ]
    },
    {
      "cell_type": "code",
      "execution_count": null,
      "metadata": {
        "id": "ZkryCgd5PYRB"
      },
      "outputs": [],
      "source": [
        "def random_data(x,y,n):\n",
        "  y=y.to_numpy()\n",
        "  num_instances,num_features = x.shape\n",
        "  n_select = int(num_instances * n)\n",
        "  inds = np.random.permutation(num_instances)\n",
        "  x_select,y_select = x[inds[:n_select]],y[inds[:n_select]]\n",
        "  return x_select,y_select"
      ]
    },
    {
      "cell_type": "code",
      "execution_count": null,
      "metadata": {
        "id": "p7yNg5MBQI8K"
      },
      "outputs": [],
      "source": [
        "print(type(senti_train_target))"
      ]
    },
    {
      "cell_type": "code",
      "execution_count": null,
      "metadata": {
        "id": "bn3snvmAPXrl"
      },
      "outputs": [],
      "source": [
        "x_test, y_test = senti_test_tfidf,senti_test_target\n",
        "size_list = [0.2,0.4,0.6,0.8]\n",
        "\n",
        "acc_lr = []\n",
        "acc_mnb = []\n",
        "\n",
        "for s in size_list:\n",
        "  x_train,y_train = random_data(senti_train_tfidf,senti_train_target,s)\n",
        "\n",
        "  lr = LogisticRegression(max_iter=1000)\n",
        "  lr.fit(x_train, y_train)\n",
        "  y_prob = lr.predict_log_proba(x_test)\n",
        "  y_pred = np.argmax(y_prob, 1)\n",
        "  acc_lr.append(evaluate_acc(y_pred,y_test))\n",
        "\n",
        "  mnb = MultiNaiveBayes(alpha=1)\n",
        "  y_prob = mnb.fit(x_train, y_train).predict(x_test)\n",
        "  y_pred = np.argmax(y_prob, 1)\n",
        "  acc_mnb.append(evaluate_acc(y_pred,y_test))\n",
        "\n",
        "\n",
        "print(acc_lr)\n",
        "\n",
        "plt.plot(size_list, acc_mnb, label = 'mnb')\n",
        "plt.plot(size_list, acc_lr, label = 'lr')\n",
        "plt.legend()\n",
        "plt.xlabel('Dataset size')\n",
        "plt.ylabel('Accuracy')\n",
        "plt.show()\n"
      ]
    }
  ],
  "metadata": {
    "colab": {
      "collapsed_sections": [
        "QjBk85vigpFn",
        "8b0yQwk1gPR2",
        "mAsJeGxiQ2nh",
        "RMfWLua3n2uu",
        "V3mNKcrwVCU0",
        "T82KzRH41YSE",
        "dzHRYYcw4ho1",
        "sMgxuuBII4qD",
        "3sgOte6KtCU0",
        "iWYTAS_C68Qh",
        "ZiiagDPSHyTx",
        "KKArrP64UzOZ",
        "ARRnSMeGJLA8",
        "FRuHYcR-Oi8N",
        "9Q-pG8UwPRHs"
      ],
      "machine_shape": "hm",
      "name": "551_mini2-25g",
      "provenance": [],
      "toc_visible": true
    },
    "kernelspec": {
      "display_name": "Python 3",
      "name": "python3"
    }
  },
  "nbformat": 4,
  "nbformat_minor": 0
}